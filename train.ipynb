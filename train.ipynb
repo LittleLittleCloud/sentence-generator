{
 "cells": [
  {
   "cell_type": "code",
   "execution_count": 1,
   "metadata": {},
   "outputs": [],
   "source": [
    "from model.rvae import RVAE\n",
    "from util.batch_loader import Batch\n",
    "from util.preprocess import Preprocess\n",
    "from util.parameter import Parameter\n",
    "from gensim.models import KeyedVectors\n",
    "from torch.optim import Adam\n",
    "import numpy as np\n",
    "import torch"
   ]
  },
  {
   "cell_type": "markdown",
   "metadata": {},
   "source": [
    "### load embedding model"
   ]
  },
  {
   "cell_type": "code",
   "execution_count": 2,
   "metadata": {},
   "outputs": [],
   "source": [
    "embedding_model=KeyedVectors.load_word2vec_format('embedding.bin')"
   ]
  },
  {
   "cell_type": "markdown",
   "metadata": {},
   "source": [
    "### or train an embedding model"
   ]
  },
  {
   "cell_type": "code",
   "execution_count": 3,
   "metadata": {},
   "outputs": [
    {
     "ename": "KeyboardInterrupt",
     "evalue": "",
     "output_type": "error",
     "traceback": [
      "\u001b[0;31m---------------------------------------------------------------------------\u001b[0m",
      "\u001b[0;31mKeyboardInterrupt\u001b[0m                         Traceback (most recent call last)",
      "\u001b[0;32m<ipython-input-3-29d7d8923fb2>\u001b[0m in \u001b[0;36m<module>\u001b[0;34m()\u001b[0m\n\u001b[1;32m      4\u001b[0m     \u001b[0mdata\u001b[0m\u001b[0;34m=\u001b[0m\u001b[0mf\u001b[0m\u001b[0;34m.\u001b[0m\u001b[0mread\u001b[0m\u001b[0;34m(\u001b[0m\u001b[0;34m)\u001b[0m\u001b[0;34m\u001b[0m\u001b[0m\n\u001b[1;32m      5\u001b[0m \u001b[0mpreprocess\u001b[0m\u001b[0;34m=\u001b[0m\u001b[0mPreprocess\u001b[0m\u001b[0;34m(\u001b[0m\u001b[0membedding_model\u001b[0m\u001b[0;34m=\u001b[0m\u001b[0membedding_model\u001b[0m\u001b[0;34m)\u001b[0m\u001b[0;34m\u001b[0m\u001b[0m\n\u001b[0;32m----> 6\u001b[0;31m \u001b[0mwash_sentences\u001b[0m\u001b[0;34m=\u001b[0m\u001b[0mpreprocess\u001b[0m\u001b[0;34m.\u001b[0m\u001b[0mwash_data\u001b[0m\u001b[0;34m(\u001b[0m\u001b[0mdata\u001b[0m\u001b[0;34m,\u001b[0m\u001b[0msave\u001b[0m\u001b[0;34m=\u001b[0m\u001b[0;34m'train'\u001b[0m\u001b[0;34m)\u001b[0m\u001b[0;34m\u001b[0m\u001b[0m\n\u001b[0m\u001b[1;32m      7\u001b[0m \u001b[0;34m\u001b[0m\u001b[0m\n\u001b[1;32m      8\u001b[0m \u001b[0mmodel\u001b[0m\u001b[0;34m=\u001b[0m\u001b[0mWord2Vec\u001b[0m\u001b[0;34m(\u001b[0m\u001b[0;34m[\u001b[0m\u001b[0mre\u001b[0m\u001b[0;34m.\u001b[0m\u001b[0msplit\u001b[0m\u001b[0;34m(\u001b[0m\u001b[0;34mr'[ ]+'\u001b[0m\u001b[0;34m,\u001b[0m\u001b[0msentence\u001b[0m\u001b[0;34m)\u001b[0m \u001b[0;32mfor\u001b[0m \u001b[0msentence\u001b[0m \u001b[0;32min\u001b[0m \u001b[0mwash_sentences\u001b[0m\u001b[0;34m]\u001b[0m\u001b[0;34m,\u001b[0m\u001b[0;36m300\u001b[0m\u001b[0;34m)\u001b[0m\u001b[0;34m\u001b[0m\u001b[0m\n",
      "\u001b[0;32m~/sentence generator/util/preprocess.py\u001b[0m in \u001b[0;36mwash_data\u001b[0;34m(self, raw_data, split, save)\u001b[0m\n\u001b[1;32m     46\u001b[0m             \u001b[0mtokens\u001b[0m\u001b[0;34m=\u001b[0m\u001b[0mre\u001b[0m\u001b[0;34m.\u001b[0m\u001b[0msplit\u001b[0m\u001b[0;34m(\u001b[0m\u001b[0;34mr'[ ]+'\u001b[0m\u001b[0;34m,\u001b[0m\u001b[0msentence\u001b[0m\u001b[0;34m)\u001b[0m\u001b[0;34m\u001b[0m\u001b[0m\n\u001b[1;32m     47\u001b[0m             \u001b[0;32mfor\u001b[0m \u001b[0mj\u001b[0m\u001b[0;34m,\u001b[0m\u001b[0mtoken\u001b[0m \u001b[0;32min\u001b[0m \u001b[0menumerate\u001b[0m\u001b[0;34m(\u001b[0m\u001b[0mtokens\u001b[0m\u001b[0;34m)\u001b[0m\u001b[0;34m:\u001b[0m\u001b[0;34m\u001b[0m\u001b[0m\n\u001b[0;32m---> 48\u001b[0;31m                 \u001b[0;32mif\u001b[0m \u001b[0mre\u001b[0m\u001b[0;34m.\u001b[0m\u001b[0mmatch\u001b[0m\u001b[0;34m(\u001b[0m\u001b[0;34mr'^\\d*$'\u001b[0m\u001b[0;34m,\u001b[0m\u001b[0mtoken\u001b[0m\u001b[0;34m)\u001b[0m\u001b[0;34m:\u001b[0m\u001b[0;34m\u001b[0m\u001b[0m\n\u001b[0m\u001b[1;32m     49\u001b[0m                     \u001b[0mtokens\u001b[0m\u001b[0;34m[\u001b[0m\u001b[0mj\u001b[0m\u001b[0;34m]\u001b[0m\u001b[0;34m=\u001b[0m\u001b[0;34m'#'\u001b[0m\u001b[0;34m\u001b[0m\u001b[0m\n\u001b[1;32m     50\u001b[0m                 \u001b[0;32melif\u001b[0m \u001b[0mtoken\u001b[0m \u001b[0;32min\u001b[0m \u001b[0mukn_set\u001b[0m\u001b[0;34m:\u001b[0m\u001b[0;34m\u001b[0m\u001b[0m\n",
      "\u001b[0;32m~/anaconda3/lib/python3.6/re.py\u001b[0m in \u001b[0;36mmatch\u001b[0;34m(pattern, string, flags)\u001b[0m\n\u001b[1;32m    167\u001b[0m \u001b[0;31m# public interface\u001b[0m\u001b[0;34m\u001b[0m\u001b[0;34m\u001b[0m\u001b[0m\n\u001b[1;32m    168\u001b[0m \u001b[0;34m\u001b[0m\u001b[0m\n\u001b[0;32m--> 169\u001b[0;31m \u001b[0;32mdef\u001b[0m \u001b[0mmatch\u001b[0m\u001b[0;34m(\u001b[0m\u001b[0mpattern\u001b[0m\u001b[0;34m,\u001b[0m \u001b[0mstring\u001b[0m\u001b[0;34m,\u001b[0m \u001b[0mflags\u001b[0m\u001b[0;34m=\u001b[0m\u001b[0;36m0\u001b[0m\u001b[0;34m)\u001b[0m\u001b[0;34m:\u001b[0m\u001b[0;34m\u001b[0m\u001b[0m\n\u001b[0m\u001b[1;32m    170\u001b[0m     \"\"\"Try to apply the pattern at the start of the string, returning\n\u001b[1;32m    171\u001b[0m     a match object, or None if no match was found.\"\"\"\n",
      "\u001b[0;31mKeyboardInterrupt\u001b[0m: "
     ]
    }
   ],
   "source": [
    "from gensim.models import Word2Vec\n",
    "import re\n",
    "with open('train.txt','r') as f:\n",
    "    data=f.read()\n",
    "preprocess=Preprocess(embedding_model=embedding_model)\n",
    "wash_sentences=preprocess.wash_data(data,save='train')\n",
    "\n",
    "model=Word2Vec([re.split(r'[ ]+',sentence) for sentence in wash_sentences],300)\n",
    "model.wv.save_word2vec_format('embedding.bin')"
   ]
  },
  {
   "cell_type": "code",
   "execution_count": null,
   "metadata": {},
   "outputs": [],
   "source": [
    "del wash_sentences,model"
   ]
  },
  {
   "cell_type": "markdown",
   "metadata": {},
   "source": [
    "### load raw data"
   ]
  },
  {
   "cell_type": "code",
   "execution_count": 3,
   "metadata": {},
   "outputs": [],
   "source": [
    "with open('train','r') as f:\n",
    "    data=f.readlines()\n"
   ]
  },
  {
   "cell_type": "markdown",
   "metadata": {},
   "source": [
    "### preprocess"
   ]
  },
  {
   "cell_type": "code",
   "execution_count": 4,
   "metadata": {},
   "outputs": [],
   "source": [
    "import os\n",
    "preprocess=Preprocess(embedding_model)\n",
    "input=preprocess.to_sequence(data)\n",
    "if not os.path.exists('embedding.npy'):\n",
    "    embedding=preprocess.embedding()\n",
    "    np.save('embedding',embedding)"
   ]
  },
  {
   "cell_type": "markdown",
   "metadata": {},
   "source": [
    "### batch generator and parameter"
   ]
  },
  {
   "cell_type": "code",
   "execution_count": 5,
   "metadata": {},
   "outputs": [],
   "source": [
    "batch_loader=Batch(input,0.7)\n",
    "params=Parameter(word_embed_size=300,encode_rnn_size=600,latent_variable_size=1000,\\\n",
    "            decode_rnn_size=600,vocab_size=preprocess.vocab_size,embedding_path='embedding.npy')"
   ]
  },
  {
   "cell_type": "markdown",
   "metadata": {},
   "source": [
    "### checkpoint"
   ]
  },
  {
   "cell_type": "code",
   "execution_count": 6,
   "metadata": {},
   "outputs": [],
   "source": [
    "def save_checkpoint(state,  filename='checkpoint.pth.tar'):\n",
    "    torch.save(state, filename)"
   ]
  },
  {
   "cell_type": "markdown",
   "metadata": {},
   "source": [
    "### model , optimizer and train"
   ]
  },
  {
   "cell_type": "code",
   "execution_count": 7,
   "metadata": {},
   "outputs": [],
   "source": [
    "model=RVAE(params)\n",
    "optimizer=Adam(model.learnable_parameters(), 5e-4)\n",
    "\n",
    "if os.path.isfile('checkpoint.pth.tar'):\n",
    "    checkpoint=torch.load('checkpoint.pth.tar')\n",
    "    optimizer.load_state_dict(checkpoint['optimizer'])\n",
    "    i=checkpoint['i']\n",
    "    model.i=i\n",
    "\n",
    "train_step=model.trainer(optimizer)\n",
    "\n",
    "if os.path.exists('trained_rvae'):\n",
    "    model.load_state_dict(torch.load('trained_rvae'))\n",
    "use_cuda=torch.cuda.is_available()\n",
    "if use_cuda:\n",
    "    model=model.cuda()\n",
    "ce_list=[]\n",
    "kld_list=[]\n",
    "coef_list=[]"
   ]
  },
  {
   "cell_type": "code",
   "execution_count": 29,
   "metadata": {},
   "outputs": [],
   "source": [
    "optimizer=Adam(model.learnable_parameters(), 5e-6)\n",
    "train_step=model.trainer(optimizer)\n"
   ]
  },
  {
   "cell_type": "code",
   "execution_count": 8,
   "metadata": {},
   "outputs": [
    {
     "name": "stdout",
     "output_type": "stream",
     "text": [
      "RVAE (\n",
      "  (encoder): Encoder (\n",
      "    (highway): Highway (\n",
      "    )\n",
      "    (lstm): LSTM(300, 600, batch_first=True, bidirectional=True)\n",
      "  )\n",
      "  (decoder): Decoder (\n",
      "    (lstm): LSTM(1300, 600, batch_first=True)\n",
      "    (fc): Linear (600 -> 13962)\n",
      "  )\n",
      "  (logvar): Linear (1200 -> 1000)\n",
      "  (mu): Linear (1200 -> 1000)\n",
      "  (embedding): Embedding (\n",
      "    (word_embed): Embedding(13962, 300)\n",
      "  )\n",
      "  (latent): Linear (1000 -> 1200)\n",
      ")\n"
     ]
    }
   ],
   "source": [
    "print(model)"
   ]
  },
  {
   "cell_type": "code",
   "execution_count": 11,
   "metadata": {},
   "outputs": [],
   "source": [
    "model.i=torch.autograd.Variable(torch.FloatTensor([1]),requires_grad=False)"
   ]
  },
  {
   "cell_type": "markdown",
   "metadata": {},
   "source": [
    "### train"
   ]
  },
  {
   "cell_type": "code",
   "execution_count": null,
   "metadata": {},
   "outputs": [
    {
     "name": "stdout",
     "output_type": "stream",
     "text": [
      "in the morning <ukn> the early <ukn> can meet up and jump on the lift \n",
      "\n",
      "the boot camp <ukn> in the boot camp we can pickup just # <ukn> # feet to pick up the canyon below games and the\n",
      "500 step: ce:\n",
      " 0.3937\n",
      "[torch.cuda.FloatTensor of size 1 (GPU 0)]\n",
      ", kld:\n",
      " 5.5305\n",
      "[torch.cuda.FloatTensor of size 1 (GPU 0)]\n",
      " \n",
      "Variable containing:\n",
      " 3.2302e+05\n",
      "[torch.FloatTensor of size 1]\n",
      "\n",
      "there 's only room for # # tents in each site the camping reservation is for fri 29th sun 1st some of the best wineries are right next to the campground <ukn> <ukn> <ukn> <ukn> di <ukn> <ukn> more info <ukn> area <ukn> no fee fishing just need <ukn> license and # bucks for parking \n",
      "\n",
      "there is only enough room for additional parking at universal and on 4th may 6th at # <ukn> 30pm # <ukn> # pm <ukn> let 's bring of the water for the lodge price <ukn> so you may have to drive # or on <ukn>\n"
     ]
    }
   ],
   "source": [
    "test_batch=batch_loader.test_next_batch(1)\n",
    "for j in range(100):\n",
    "    for i,batch in enumerate(batch_loader.train_next_batch(32)):\n",
    "        if i%501==0:\n",
    "            sample=next(test_batch)\n",
    "            print(' '.join([preprocess.index_to_word[i] for i in sample[0][0]]),'\\n')\n",
    "            sentence=model.sample(len(sample[0][0][::-1])+10,sample,use_cuda)\n",
    "            sentence=[preprocess.index_to_word[i] for i in sentence]\n",
    "            print(' '.join(sentence))\n",
    "            continue\n",
    "        ce,kld,coef=train_step(batch,0.2,use_cuda)\n",
    "        if i%500==0:\n",
    "            print('500 step: ce:{}, kld:{} '.format(ce,kld))\n",
    "            torch.save(model.state_dict(), 'trained_rvae')\n",
    "            print(model.i)\n",
    "        ce_list+=[ce.cpu().numpy()[0]]\n",
    "        kld_list+=[kld.cpu().numpy()[0]]\n",
    "        coef_list+=[coef]\n",
    "    print(\"epoch finish {}\".format(j))\n",
    "    np.save('ce',ce_list)\n",
    "    np.save('kld',kld_list)\n",
    "    np.save('coef',coef_list)\n",
    "    save_checkpoint({\n",
    "        'optimizer':optimizer.state_dict(),\n",
    "        'i':model.i\n",
    "    })\n",
    "    with open('status','w') as f:\n",
    "        f.write('echo {}'.format(j))\n",
    "    !gsutil cp trained_rvae ce.npy kld.npy coef.npy status checkpoint.pth.tar gs://rvae\n",
    "\n",
    "    "
   ]
  },
  {
   "cell_type": "code",
   "execution_count": 15,
   "metadata": {},
   "outputs": [],
   "source": [
    "a=[1,2,3]\n",
    "np.save('a.npy',a)"
   ]
  },
  {
   "cell_type": "code",
   "execution_count": 31,
   "metadata": {},
   "outputs": [],
   "source": [
    "a=np.load('ce.npy')"
   ]
  },
  {
   "cell_type": "code",
   "execution_count": 32,
   "metadata": {},
   "outputs": [
    {
     "data": {
      "image/png": "[encoded data removed]",
      "text/plain": [
       "<matplotlib.figure.Figure at 0x7f96cb70b208>"
      ]
     },
     "metadata": {},
     "output_type": "display_data"
    }
   ],
   "source": [
    "import matplotlib.pyplot as plt\n",
    "plt.figure(figsize=(20,20))\n",
    "plt.plot(np.arange(len(a)),a)\n",
    "plt.show()"
   ]
  },
  {
   "cell_type": "code",
   "execution_count": 31,
   "metadata": {},
   "outputs": [
    {
     "data": {
      "text/plain": [
       "array([103.54409   , 122.58523   , 118.10599   , ...,   0.38861454,\n",
       "         0.15653642,   0.46808937], dtype=float32)"
      ]
     },
     "execution_count": 31,
     "metadata": {},
     "output_type": "execute_result"
    }
   ],
   "source": [
    "a"
   ]
  },
  {
   "cell_type": "code",
   "execution_count": null,
   "metadata": {},
   "outputs": [],
   "source": []
  }
 ],
 "metadata": {
  "kernelspec": {
   "display_name": "Python 3",
   "language": "python",
   "name": "python3"
  },
  "language_info": {
   "codemirror_mode": {
    "name": "ipython",
    "version": 3
   },
   "file_extension": ".py",
   "mimetype": "text/x-python",
   "name": "python",
   "nbconvert_exporter": "python",
   "pygments_lexer": "ipython3",
   "version": "3.6.4"
  }
 },
 "nbformat": 4,
 "nbformat_minor": 2
}
